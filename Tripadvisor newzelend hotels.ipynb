{
 "cells": [
  {
   "cell_type": "code",
   "execution_count": 3,
   "id": "58526a41-c25a-4d99-ba24-a2e3ba9b4b3a",
   "metadata": {},
   "outputs": [],
   "source": [
    "from selenium import webdriver\n",
    "from webdriver_manager.chrome import ChromeDriverManager\n",
    "import pandas as pd\n",
    "from selenium.common.exceptions import TimeoutException\n",
    "from selenium.webdriver.common.by import By\n",
    "from selenium.webdriver.support.ui import WebDriverWait\n",
    "from selenium.webdriver.support import expected_conditions as EC\n",
    "import time"
   ]
  },
  {
   "cell_type": "code",
   "execution_count": 4,
   "id": "c13721bf-093a-4a4c-8468-a66435840c18",
   "metadata": {},
   "outputs": [
    {
     "name": "stderr",
     "output_type": "stream",
     "text": [
      "[WDM] - Downloading: 100%|████████████████████████████████████████████████████████| 6.81M/6.81M [00:05<00:00, 1.26MB/s]\n",
      "C:\\Users\\User\\AppData\\Local\\Temp\\ipykernel_4172\\312914113.py:1: DeprecationWarning: executable_path has been deprecated, please pass in a Service object\n",
      "  driver=webdriver.Chrome(ChromeDriverManager().install())\n"
     ]
    },
    {
     "data": {
      "text/plain": [
       "<selenium.webdriver.chrome.webdriver.WebDriver (session=\"c4c06da6bc0a9a66e7fcb76b453f3215\")>"
      ]
     },
     "execution_count": 4,
     "metadata": {},
     "output_type": "execute_result"
    }
   ],
   "source": [
    "driver=webdriver.Chrome(ChromeDriverManager().install())\n",
    "driver"
   ]
  },
  {
   "cell_type": "code",
   "execution_count": null,
   "id": "116aa8bd-f421-434f-9d14-5f61b09e99d6",
   "metadata": {},
   "outputs": [],
   "source": [
    "'''\n",
    "//div//button[@class=\"UikNM _G B- _S _T c G_ P0 wSSLS wnNQG\"]\n",
    "\n",
    "//span[@class=\"frnQr\"]/span[1]\n",
    "'''"
   ]
  },
  {
   "cell_type": "code",
   "execution_count": 5,
   "id": "0a0f409d-be4e-4cd9-80b1-f91f6ec611e7",
   "metadata": {},
   "outputs": [],
   "source": [
    "link_url='https://www.tripadvisor.com/Hotels-g255104-New_Zealand-Hotels.html#LEAF_GEO_LIST'\n",
    "driver.get(link_url)"
   ]
  },
  {
   "cell_type": "code",
   "execution_count": 2,
   "id": "955baab7-a737-431d-bc88-6e08d06767f4",
   "metadata": {
    "tags": []
   },
   "outputs": [
    {
     "ename": "NameError",
     "evalue": "name 'driver' is not defined",
     "output_type": "error",
     "traceback": [
      "\u001b[1;31m---------------------------------------------------------------------------\u001b[0m",
      "\u001b[1;31mNameError\u001b[0m                                 Traceback (most recent call last)",
      "\u001b[1;32m~\\AppData\\Local\\Temp\\ipykernel_4172\\1535124266.py\u001b[0m in \u001b[0;36m<module>\u001b[1;34m\u001b[0m\n\u001b[0;32m      1\u001b[0m \u001b[1;32mfor\u001b[0m \u001b[0mhotels\u001b[0m \u001b[1;32min\u001b[0m \u001b[0mrange\u001b[0m\u001b[1;33m(\u001b[0m\u001b[1;36m1\u001b[0m\u001b[1;33m,\u001b[0m\u001b[1;36m31\u001b[0m\u001b[1;33m)\u001b[0m\u001b[1;33m:\u001b[0m\u001b[1;33m\u001b[0m\u001b[1;33m\u001b[0m\u001b[0m\n\u001b[1;32m----> 2\u001b[1;33m     \u001b[0mtitle\u001b[0m\u001b[1;33m=\u001b[0m\u001b[0mdriver\u001b[0m\u001b[1;33m.\u001b[0m\u001b[0mfind_element\u001b[0m\u001b[1;33m(\u001b[0m\u001b[1;34m'xpath'\u001b[0m\u001b[1;33m,\u001b[0m\u001b[1;34mf'(//div[@ class=\"listing_title \"]/a)[{hotels}]'\u001b[0m\u001b[1;33m)\u001b[0m\u001b[1;33m.\u001b[0m\u001b[0mtext\u001b[0m\u001b[1;33m\u001b[0m\u001b[1;33m\u001b[0m\u001b[0m\n\u001b[0m\u001b[0;32m      3\u001b[0m     \u001b[1;32mtry\u001b[0m\u001b[1;33m:\u001b[0m\u001b[1;33m\u001b[0m\u001b[1;33m\u001b[0m\u001b[0m\n\u001b[0;32m      4\u001b[0m         \u001b[0mbooking_price\u001b[0m\u001b[1;33m=\u001b[0m  \u001b[0mdriver\u001b[0m\u001b[1;33m.\u001b[0m\u001b[0mfind_element\u001b[0m\u001b[1;33m(\u001b[0m\u001b[1;34m'xpath'\u001b[0m\u001b[1;33m,\u001b[0m\u001b[1;34mf'(//div[@class=\"priceBlock ui_column is-12-tablet\"])[{hotels}]'\u001b[0m\u001b[1;33m)\u001b[0m\u001b[1;33m.\u001b[0m\u001b[0mtext\u001b[0m\u001b[1;33m\u001b[0m\u001b[1;33m\u001b[0m\u001b[0m\n\u001b[0;32m      5\u001b[0m \u001b[1;33m\u001b[0m\u001b[0m\n",
      "\u001b[1;31mNameError\u001b[0m: name 'driver' is not defined"
     ]
    }
   ],
   "source": [
    "for hotels in range(1,31):\n",
    "    title=driver.find_element('xpath',f'(//div[@ class=\"listing_title \"]/a)[{hotels}]').text\n",
    "    try:\n",
    "        booking_price=  driver.find_element('xpath',f'(//div[@class=\"priceBlock ui_column is-12-tablet\"])[{hotels}]').text\n",
    "        \n",
    "    except:\n",
    "        booking_price=(\"None\")\n",
    "        \n",
    "    '''    \n",
    "    try:\n",
    "        old_booking_price=driver.find_element('xpath',f'(//div[@class=\"xwrap blackText smaller\"])[{hotels}]').text\n",
    "    except:\n",
    "        old_booking_price=(\"None\")\n",
    "       '''\n",
    "    try:\n",
    "        \n",
    "        vendor_price=driver.find_element('xpath',f'(//div[@data-provider=\"Agoda\"]/div[@class=\"price __resizeWatch\"])[{hotels}]').text\n",
    "    except:\n",
    "        \n",
    "        vendor_price=\"none\"\n",
    "    \n",
    "    try:\n",
    "        \n",
    "        trip_price=driver.find_element('xpath',f'(//div[@class=\"text-link no_cpu metaOffer \" and @data-vendorname=\"Trip.com\"]/div[@class=\"price __resizeWatch\"])[{hotels}]').text\n",
    "    except:\n",
    "        \n",
    "        trip_price=\"None\"\n",
    "        \n",
    "    try:\n",
    "        expedia_price=driver.find_element('xpath',f'(//div[@class=\"text-link no_cpu metaOffer \" and @data-provider=\"Expedia\"]/div[@class=\"price __resizeWatch\"])[{hotels}]').text\n",
    "    \n",
    "    except:\n",
    "        expedia_price=\"None\"\n",
    "        \n",
    "    try:\n",
    "        category=driver.find_element('xpath',f'(//div[@class=\"prw_rup prw_hotels_h_accommodation_category linespace is-shown-at-mobile\"])[{hotels}]').text\n",
    "    \n",
    "    except:\n",
    "        \n",
    "        category=\"None\"\n",
    "        \n",
    "    try:\n",
    "        review=driver.find_element('xpath',f'(//div[@class=\"prw_rup prw_common_rating_and_review_count_with_popup linespace is-shown-at-mobile\"])[{hotels}]').text\n",
    "                                     \n",
    "    except:\n",
    "        review=\"None\"\n",
    "        \n",
    "    try:\n",
    "        comment=driver.find_element('xpath',f'(//div[@class=\"prw_rup prw_common_location_pop_index linespace is-shown-at-mobile\"]/div[@class=\"popindex\"])[{hotels}]').text\n",
    "                                     \n",
    "    except:\n",
    "        comment=\"None\"\n",
    "        \n",
    "    try:\n",
    "        free_wifi=driver.find_element('xpath',f'(//li[@class=\"hotel_icon \"]/div[@class=\"label\"]/span[@class=\"ui_icon wifi \"]/following-sibling::span[@class=\"text_container\"]/span[@class=\"text \"])[{hotels}]').text\n",
    "    \n",
    "    except:\n",
    "        free_wifi=\"None\"\n",
    "        \n",
    "    try:\n",
    "        \n",
    "        free_parking=driver.find_element('xpath',f'(//div[@data-clicksourcelabel=\"Free parking\"])[{hotels}]').text\n",
    "    \n",
    "    except:\n",
    "        free_parking=\"None\"\n",
    "        \n",
    "    try:\n",
    "        hotel_wevsite_link=driver.find_element('xpath',f'(//div[@class=\"label isLink\"]/span[@class=\"text_container\"]/span[@class=\"text\"])[{hotels}]').get_attribute('href')\n",
    "        \n",
    "    except:\n",
    "        hotel_wevsite_link=\"None\"\n",
    "    dic={\n",
    "        \n",
    "    \"title\":title,\n",
    "    \"booking_price\":booking_price,\n",
    "    \"vendor_price\":vendor_price,\n",
    "    \"trip_price\":trip_price,\n",
    "    \"expedia_price\":expedia_price,\n",
    "    \"category\":category,\n",
    "    \"review\":review,\n",
    "    \"comment\":comment,\n",
    "    \"free_wifi\":free_wifi,\n",
    "    \"free_parking\":free_parking,\n",
    "    \"hotel_wevsite_link\":hotel_wevsite_link\n",
    "        \n",
    "     \n",
    "    #\"old_booking_price\": old_booking_price\n",
    "    }\n",
    "    print(dic)\n",
    "    "
   ]
  },
  {
   "cell_type": "code",
   "execution_count": 1,
   "id": "1c81975e-df9c-44fc-9abb-9e8f4b6e6566",
   "metadata": {},
   "outputs": [
    {
     "ename": "NameError",
     "evalue": "name 'webdriver' is not defined",
     "output_type": "error",
     "traceback": [
      "\u001b[1;31m---------------------------------------------------------------------------\u001b[0m",
      "\u001b[1;31mNameError\u001b[0m                                 Traceback (most recent call last)",
      "\u001b[1;32m~\\AppData\\Local\\Temp\\ipykernel_4172\\312914113.py\u001b[0m in \u001b[0;36m<module>\u001b[1;34m\u001b[0m\n\u001b[1;32m----> 1\u001b[1;33m \u001b[0mdriver\u001b[0m\u001b[1;33m=\u001b[0m\u001b[0mwebdriver\u001b[0m\u001b[1;33m.\u001b[0m\u001b[0mChrome\u001b[0m\u001b[1;33m(\u001b[0m\u001b[0mChromeDriverManager\u001b[0m\u001b[1;33m(\u001b[0m\u001b[1;33m)\u001b[0m\u001b[1;33m.\u001b[0m\u001b[0minstall\u001b[0m\u001b[1;33m(\u001b[0m\u001b[1;33m)\u001b[0m\u001b[1;33m)\u001b[0m\u001b[1;33m\u001b[0m\u001b[1;33m\u001b[0m\u001b[0m\n\u001b[0m\u001b[0;32m      2\u001b[0m \u001b[0mdriver\u001b[0m\u001b[1;33m\u001b[0m\u001b[1;33m\u001b[0m\u001b[0m\n",
      "\u001b[1;31mNameError\u001b[0m: name 'webdriver' is not defined"
     ]
    }
   ],
   "source": [
    "driver=webdriver.Chrome(ChromeDriverManager().install())\n",
    "driver"
   ]
  },
  {
   "cell_type": "code",
   "execution_count": 9,
   "id": "8e06a315-7f71-456f-827c-01e7b72966ee",
   "metadata": {},
   "outputs": [],
   "source": [
    "link_url='https://www.tripadvisor.com/Hotels-g255104-New_Zealand-Hotels.html#LEAF_GEO_LIST'\n",
    "driver.get(link_url)"
   ]
  },
  {
   "cell_type": "code",
   "execution_count": 11,
   "id": "6f406030-bc4d-46c5-9883-f0c022645a93",
   "metadata": {},
   "outputs": [
    {
     "ename": "StaleElementReferenceException",
     "evalue": "Message: stale element reference: stale element not found\n  (Session info: chrome=113.0.5672.93)\nStacktrace:\nBacktrace:\n\tGetHandleVerifier [0x010F8893+48451]\n\t(No symbol) [0x0108B8A1]\n\t(No symbol) [0x00F95058]\n\t(No symbol) [0x00F983F1]\n\t(No symbol) [0x00F99631]\n\t(No symbol) [0x00F996D0]\n\t(No symbol) [0x00FBCE4D]\n\t(No symbol) [0x00FDA2BC]\n\t(No symbol) [0x00FB9586]\n\t(No symbol) [0x00FDA614]\n\t(No symbol) [0x00FEC482]\n\t(No symbol) [0x00FDA0B6]\n\t(No symbol) [0x00FB7E08]\n\t(No symbol) [0x00FB8F2D]\n\tGetHandleVerifier [0x01358E3A+2540266]\n\tGetHandleVerifier [0x01398959+2801161]\n\tGetHandleVerifier [0x0139295C+2776588]\n\tGetHandleVerifier [0x01182280+612144]\n\t(No symbol) [0x01094F6C]\n\t(No symbol) [0x010911D8]\n\t(No symbol) [0x010912BB]\n\t(No symbol) [0x01084857]\n\tBaseThreadInitThunk [0x76BB0099+25]\n\tRtlGetAppContainerNamedObjectPath [0x76F77B6E+286]\n\tRtlGetAppContainerNamedObjectPath [0x76F77B3E+238]\n",
     "output_type": "error",
     "traceback": [
      "\u001b[1;31m---------------------------------------------------------------------------\u001b[0m",
      "\u001b[1;31mStaleElementReferenceException\u001b[0m            Traceback (most recent call last)",
      "\u001b[1;32m~\\AppData\\Local\\Temp\\ipykernel_12492\\2871931603.py\u001b[0m in \u001b[0;36m<module>\u001b[1;34m\u001b[0m\n\u001b[0;32m      6\u001b[0m     \u001b[1;32mfor\u001b[0m \u001b[0mhotels\u001b[0m \u001b[1;32min\u001b[0m \u001b[0mrange\u001b[0m\u001b[1;33m(\u001b[0m\u001b[1;36m1\u001b[0m\u001b[1;33m,\u001b[0m\u001b[1;36m31\u001b[0m\u001b[1;33m)\u001b[0m\u001b[1;33m:\u001b[0m\u001b[1;33m\u001b[0m\u001b[1;33m\u001b[0m\u001b[0m\n\u001b[0;32m      7\u001b[0m \u001b[1;33m\u001b[0m\u001b[0m\n\u001b[1;32m----> 8\u001b[1;33m                 \u001b[0mtitle\u001b[0m\u001b[1;33m=\u001b[0m\u001b[0mdriver\u001b[0m\u001b[1;33m.\u001b[0m\u001b[0mfind_element\u001b[0m\u001b[1;33m(\u001b[0m\u001b[1;34m'xpath'\u001b[0m\u001b[1;33m,\u001b[0m\u001b[1;34mf'(//div[@class=\"listing_title \"]/div[@class=\"prw_rup prw_meta_hsx_listing_name listing-title\"])[{hotels}]'\u001b[0m\u001b[1;33m)\u001b[0m\u001b[1;33m.\u001b[0m\u001b[0mtext\u001b[0m\u001b[1;33m\u001b[0m\u001b[1;33m\u001b[0m\u001b[0m\n\u001b[0m\u001b[0;32m      9\u001b[0m                 \u001b[1;32mtry\u001b[0m\u001b[1;33m:\u001b[0m\u001b[1;33m\u001b[0m\u001b[1;33m\u001b[0m\u001b[0m\n\u001b[0;32m     10\u001b[0m                     \u001b[0mbooking_price\u001b[0m\u001b[1;33m=\u001b[0m  \u001b[0mdriver\u001b[0m\u001b[1;33m.\u001b[0m\u001b[0mfind_element\u001b[0m\u001b[1;33m(\u001b[0m\u001b[1;34m'xpath'\u001b[0m\u001b[1;33m,\u001b[0m\u001b[1;34mf'(//div[@class=\"priceBlock ui_column is-12-tablet\"])[{hotels}]'\u001b[0m\u001b[1;33m)\u001b[0m\u001b[1;33m.\u001b[0m\u001b[0mtext\u001b[0m\u001b[1;33m\u001b[0m\u001b[1;33m\u001b[0m\u001b[0m\n",
      "\u001b[1;32mF:\\pydir\\lib\\site-packages\\selenium\\webdriver\\remote\\webelement.py\u001b[0m in \u001b[0;36mtext\u001b[1;34m(self)\u001b[0m\n\u001b[0;32m     87\u001b[0m     \u001b[1;32mdef\u001b[0m \u001b[0mtext\u001b[0m\u001b[1;33m(\u001b[0m\u001b[0mself\u001b[0m\u001b[1;33m)\u001b[0m \u001b[1;33m->\u001b[0m \u001b[0mstr\u001b[0m\u001b[1;33m:\u001b[0m\u001b[1;33m\u001b[0m\u001b[1;33m\u001b[0m\u001b[0m\n\u001b[0;32m     88\u001b[0m         \u001b[1;34m\"\"\"The text of the element.\"\"\"\u001b[0m\u001b[1;33m\u001b[0m\u001b[1;33m\u001b[0m\u001b[0m\n\u001b[1;32m---> 89\u001b[1;33m         \u001b[1;32mreturn\u001b[0m \u001b[0mself\u001b[0m\u001b[1;33m.\u001b[0m\u001b[0m_execute\u001b[0m\u001b[1;33m(\u001b[0m\u001b[0mCommand\u001b[0m\u001b[1;33m.\u001b[0m\u001b[0mGET_ELEMENT_TEXT\u001b[0m\u001b[1;33m)\u001b[0m\u001b[1;33m[\u001b[0m\u001b[1;34m\"value\"\u001b[0m\u001b[1;33m]\u001b[0m\u001b[1;33m\u001b[0m\u001b[1;33m\u001b[0m\u001b[0m\n\u001b[0m\u001b[0;32m     90\u001b[0m \u001b[1;33m\u001b[0m\u001b[0m\n\u001b[0;32m     91\u001b[0m     \u001b[1;32mdef\u001b[0m \u001b[0mclick\u001b[0m\u001b[1;33m(\u001b[0m\u001b[0mself\u001b[0m\u001b[1;33m)\u001b[0m \u001b[1;33m->\u001b[0m \u001b[1;32mNone\u001b[0m\u001b[1;33m:\u001b[0m\u001b[1;33m\u001b[0m\u001b[1;33m\u001b[0m\u001b[0m\n",
      "\u001b[1;32mF:\\pydir\\lib\\site-packages\\selenium\\webdriver\\remote\\webelement.py\u001b[0m in \u001b[0;36m_execute\u001b[1;34m(self, command, params)\u001b[0m\n\u001b[0;32m    401\u001b[0m             \u001b[0mparams\u001b[0m \u001b[1;33m=\u001b[0m \u001b[1;33m{\u001b[0m\u001b[1;33m}\u001b[0m\u001b[1;33m\u001b[0m\u001b[1;33m\u001b[0m\u001b[0m\n\u001b[0;32m    402\u001b[0m         \u001b[0mparams\u001b[0m\u001b[1;33m[\u001b[0m\u001b[1;34m\"id\"\u001b[0m\u001b[1;33m]\u001b[0m \u001b[1;33m=\u001b[0m \u001b[0mself\u001b[0m\u001b[1;33m.\u001b[0m\u001b[0m_id\u001b[0m\u001b[1;33m\u001b[0m\u001b[1;33m\u001b[0m\u001b[0m\n\u001b[1;32m--> 403\u001b[1;33m         \u001b[1;32mreturn\u001b[0m \u001b[0mself\u001b[0m\u001b[1;33m.\u001b[0m\u001b[0m_parent\u001b[0m\u001b[1;33m.\u001b[0m\u001b[0mexecute\u001b[0m\u001b[1;33m(\u001b[0m\u001b[0mcommand\u001b[0m\u001b[1;33m,\u001b[0m \u001b[0mparams\u001b[0m\u001b[1;33m)\u001b[0m\u001b[1;33m\u001b[0m\u001b[1;33m\u001b[0m\u001b[0m\n\u001b[0m\u001b[0;32m    404\u001b[0m \u001b[1;33m\u001b[0m\u001b[0m\n\u001b[0;32m    405\u001b[0m     \u001b[1;32mdef\u001b[0m \u001b[0mfind_element\u001b[0m\u001b[1;33m(\u001b[0m\u001b[0mself\u001b[0m\u001b[1;33m,\u001b[0m \u001b[0mby\u001b[0m\u001b[1;33m=\u001b[0m\u001b[0mBy\u001b[0m\u001b[1;33m.\u001b[0m\u001b[0mID\u001b[0m\u001b[1;33m,\u001b[0m \u001b[0mvalue\u001b[0m\u001b[1;33m=\u001b[0m\u001b[1;32mNone\u001b[0m\u001b[1;33m)\u001b[0m \u001b[1;33m->\u001b[0m \u001b[0mWebElement\u001b[0m\u001b[1;33m:\u001b[0m\u001b[1;33m\u001b[0m\u001b[1;33m\u001b[0m\u001b[0m\n",
      "\u001b[1;32mF:\\pydir\\lib\\site-packages\\selenium\\webdriver\\remote\\webdriver.py\u001b[0m in \u001b[0;36mexecute\u001b[1;34m(self, driver_command, params)\u001b[0m\n\u001b[0;32m    438\u001b[0m         \u001b[0mresponse\u001b[0m \u001b[1;33m=\u001b[0m \u001b[0mself\u001b[0m\u001b[1;33m.\u001b[0m\u001b[0mcommand_executor\u001b[0m\u001b[1;33m.\u001b[0m\u001b[0mexecute\u001b[0m\u001b[1;33m(\u001b[0m\u001b[0mdriver_command\u001b[0m\u001b[1;33m,\u001b[0m \u001b[0mparams\u001b[0m\u001b[1;33m)\u001b[0m\u001b[1;33m\u001b[0m\u001b[1;33m\u001b[0m\u001b[0m\n\u001b[0;32m    439\u001b[0m         \u001b[1;32mif\u001b[0m \u001b[0mresponse\u001b[0m\u001b[1;33m:\u001b[0m\u001b[1;33m\u001b[0m\u001b[1;33m\u001b[0m\u001b[0m\n\u001b[1;32m--> 440\u001b[1;33m             \u001b[0mself\u001b[0m\u001b[1;33m.\u001b[0m\u001b[0merror_handler\u001b[0m\u001b[1;33m.\u001b[0m\u001b[0mcheck_response\u001b[0m\u001b[1;33m(\u001b[0m\u001b[0mresponse\u001b[0m\u001b[1;33m)\u001b[0m\u001b[1;33m\u001b[0m\u001b[1;33m\u001b[0m\u001b[0m\n\u001b[0m\u001b[0;32m    441\u001b[0m             \u001b[0mresponse\u001b[0m\u001b[1;33m[\u001b[0m\u001b[1;34m\"value\"\u001b[0m\u001b[1;33m]\u001b[0m \u001b[1;33m=\u001b[0m \u001b[0mself\u001b[0m\u001b[1;33m.\u001b[0m\u001b[0m_unwrap_value\u001b[0m\u001b[1;33m(\u001b[0m\u001b[0mresponse\u001b[0m\u001b[1;33m.\u001b[0m\u001b[0mget\u001b[0m\u001b[1;33m(\u001b[0m\u001b[1;34m\"value\"\u001b[0m\u001b[1;33m,\u001b[0m \u001b[1;32mNone\u001b[0m\u001b[1;33m)\u001b[0m\u001b[1;33m)\u001b[0m\u001b[1;33m\u001b[0m\u001b[1;33m\u001b[0m\u001b[0m\n\u001b[0;32m    442\u001b[0m             \u001b[1;32mreturn\u001b[0m \u001b[0mresponse\u001b[0m\u001b[1;33m\u001b[0m\u001b[1;33m\u001b[0m\u001b[0m\n",
      "\u001b[1;32mF:\\pydir\\lib\\site-packages\\selenium\\webdriver\\remote\\errorhandler.py\u001b[0m in \u001b[0;36mcheck_response\u001b[1;34m(self, response)\u001b[0m\n\u001b[0;32m    243\u001b[0m                 \u001b[0malert_text\u001b[0m \u001b[1;33m=\u001b[0m \u001b[0mvalue\u001b[0m\u001b[1;33m[\u001b[0m\u001b[1;34m\"alert\"\u001b[0m\u001b[1;33m]\u001b[0m\u001b[1;33m.\u001b[0m\u001b[0mget\u001b[0m\u001b[1;33m(\u001b[0m\u001b[1;34m\"text\"\u001b[0m\u001b[1;33m)\u001b[0m\u001b[1;33m\u001b[0m\u001b[1;33m\u001b[0m\u001b[0m\n\u001b[0;32m    244\u001b[0m             \u001b[1;32mraise\u001b[0m \u001b[0mexception_class\u001b[0m\u001b[1;33m(\u001b[0m\u001b[0mmessage\u001b[0m\u001b[1;33m,\u001b[0m \u001b[0mscreen\u001b[0m\u001b[1;33m,\u001b[0m \u001b[0mstacktrace\u001b[0m\u001b[1;33m,\u001b[0m \u001b[0malert_text\u001b[0m\u001b[1;33m)\u001b[0m  \u001b[1;31m# type: ignore[call-arg]  # mypy is not smart enough here\u001b[0m\u001b[1;33m\u001b[0m\u001b[1;33m\u001b[0m\u001b[0m\n\u001b[1;32m--> 245\u001b[1;33m         \u001b[1;32mraise\u001b[0m \u001b[0mexception_class\u001b[0m\u001b[1;33m(\u001b[0m\u001b[0mmessage\u001b[0m\u001b[1;33m,\u001b[0m \u001b[0mscreen\u001b[0m\u001b[1;33m,\u001b[0m \u001b[0mstacktrace\u001b[0m\u001b[1;33m)\u001b[0m\u001b[1;33m\u001b[0m\u001b[1;33m\u001b[0m\u001b[0m\n\u001b[0m",
      "\u001b[1;31mStaleElementReferenceException\u001b[0m: Message: stale element reference: stale element not found\n  (Session info: chrome=113.0.5672.93)\nStacktrace:\nBacktrace:\n\tGetHandleVerifier [0x010F8893+48451]\n\t(No symbol) [0x0108B8A1]\n\t(No symbol) [0x00F95058]\n\t(No symbol) [0x00F983F1]\n\t(No symbol) [0x00F99631]\n\t(No symbol) [0x00F996D0]\n\t(No symbol) [0x00FBCE4D]\n\t(No symbol) [0x00FDA2BC]\n\t(No symbol) [0x00FB9586]\n\t(No symbol) [0x00FDA614]\n\t(No symbol) [0x00FEC482]\n\t(No symbol) [0x00FDA0B6]\n\t(No symbol) [0x00FB7E08]\n\t(No symbol) [0x00FB8F2D]\n\tGetHandleVerifier [0x01358E3A+2540266]\n\tGetHandleVerifier [0x01398959+2801161]\n\tGetHandleVerifier [0x0139295C+2776588]\n\tGetHandleVerifier [0x01182280+612144]\n\t(No symbol) [0x01094F6C]\n\t(No symbol) [0x010911D8]\n\t(No symbol) [0x010912BB]\n\t(No symbol) [0x01084857]\n\tBaseThreadInitThunk [0x76BB0099+25]\n\tRtlGetAppContainerNamedObjectPath [0x76F77B6E+286]\n\tRtlGetAppContainerNamedObjectPath [0x76F77B3E+238]\n"
     ]
    }
   ],
   "source": [
    "data=[]\n",
    "\n",
    "for page in range(1,101):\n",
    "    page_url =link_url+ f\"-oa{30*(page-1)}\"\n",
    "    driver.get(page_url)\n",
    "    for hotels in range(1,31):\n",
    "        \n",
    "                title=driver.find_element('xpath',f'(//div[@class=\"listing_title \"]/div[@class=\"prw_rup prw_meta_hsx_listing_name listing-title\"])[{hotels}]').text\n",
    "                try:\n",
    "                    booking_price=  driver.find_element('xpath',f'(//div[@class=\"priceBlock ui_column is-12-tablet\"])[{hotels}]').text\n",
    "        \n",
    "                except:\n",
    "                   booking_price=(\"None\")\n",
    "\n",
    "                try:\n",
    "                    vendor_price=driver.find_element('xpath',f'(//div[@data-provider=\"Agoda\"]/div[@class=\"price __resizeWatch\"])[{hotels}]').text\n",
    "                \n",
    "                except:\n",
    "        \n",
    "                    vendor_price=\"none\"\n",
    "    \n",
    "                try:\n",
    "        \n",
    "                   trip_price=driver.find_element('xpath',f'(//div[@class=\"text-link no_cpu metaOffer \" and @data-vendorname=\"Trip.com\"]/div[@class=\"price __resizeWatch\"])[{hotels}]').text\n",
    "                except:\n",
    "        \n",
    "                    trip_price=\"None\"\n",
    "        \n",
    "                try:\n",
    "                   expedia_price=driver.find_element('xpath',f'(//div[@class=\"text-link no_cpu metaOffer \" and @data-provider=\"Expedia\"]/div[@class=\"price __resizeWatch\"])[{hotels}]').text\n",
    "    \n",
    "                except:\n",
    "                    expedia_price=\"None\"\n",
    "        \n",
    "                try:\n",
    "                   category=driver.find_element('xpath',f'(//div[@class=\"prw_rup prw_hotels_h_accommodation_category linespace is-shown-at-mobile\"])[{hotels}]').text\n",
    "    \n",
    "                except:\n",
    "        \n",
    "                    category=\"None\"\n",
    "        \n",
    "                try:\n",
    "                   review=driver.find_element('xpath',f'(//div[@class=\"prw_rup prw_common_rating_and_review_count_with_popup linespace is-shown-at-mobile\"])[{hotels}]').text\n",
    "                                     \n",
    "                except:\n",
    "                    review=\"None\"\n",
    "        \n",
    "                try:\n",
    "                   comment=driver.find_element('xpath',f'(//div[@class=\"prw_rup prw_common_location_pop_index linespace is-shown-at-mobile\"]/div[@class=\"popindex\"])[{hotels}]').text\n",
    "                                     \n",
    "                except:\n",
    "                    comment=\"None\"\n",
    "        \n",
    "                try:\n",
    "                   free_wifi=driver.find_element('xpath',f'(//li[@class=\"hotel_icon \"]/div[@class=\"label\"]/span[@class=\"ui_icon wifi \"]/following-sibling::span[@class=\"text_container\"]/span[@class=\"text \"])[{hotels}]').text\n",
    "    \n",
    "                except:\n",
    "                   free_wifi=\"None\"\n",
    "        \n",
    "                try:\n",
    "        \n",
    "                    free_parking=driver.find_element('xpath',f'(//div[@data-clicksourcelabel=\"Free parking\"])[{hotels}]').text\n",
    "    \n",
    "                except:\n",
    "                   free_parking=\"None\"\n",
    "        \n",
    "                try:\n",
    "                   hotel_wevsite_link=driver.find_element('xpath',f'(//div[@class=\"label isLink\"]/span[@class=\"text_container\"]/span[@class=\"text\"])[{hotels}]').get_attribute('href')\n",
    "        \n",
    "                except:\n",
    "                    hotel_wevsite_link=\"None\"\n",
    "                dic={\n",
    "        \n",
    "                    \"title\":title,\n",
    "                    \"booking_price\":booking_price,\n",
    "                     \"vendor_price\":vendor_price,\n",
    "                     \"trip_price\":trip_price,\n",
    "                     \"expedia_price\":expedia_price,\n",
    "                     \"category\":category,\n",
    "                      \"review\":review,\n",
    "                     \"comment\":comment,\n",
    "                     \"free_wifi\":free_wifi,\n",
    "                     \"free_parking\":free_parking,\n",
    "                     \"hotel_wevsite_link\":hotel_wevsite_link\n",
    "        \n",
    "     \n",
    "                }\n",
    "                data.append(dic)\n",
    "    \n",
    "    driver.find_element('xpath','//span[@class=\"nav next ui_button primary\"]').click()\n",
    "     \n",
    "    "
   ]
  },
  {
   "cell_type": "code",
   "execution_count": 7,
   "id": "e09d2dd4-e62b-4281-a600-edb34fbb418b",
   "metadata": {},
   "outputs": [
    {
     "data": {
      "text/html": [
       "<div>\n",
       "<style scoped>\n",
       "    .dataframe tbody tr th:only-of-type {\n",
       "        vertical-align: middle;\n",
       "    }\n",
       "\n",
       "    .dataframe tbody tr th {\n",
       "        vertical-align: top;\n",
       "    }\n",
       "\n",
       "    .dataframe thead th {\n",
       "        text-align: right;\n",
       "    }\n",
       "</style>\n",
       "<table border=\"1\" class=\"dataframe\">\n",
       "  <thead>\n",
       "    <tr style=\"text-align: right;\">\n",
       "      <th></th>\n",
       "    </tr>\n",
       "  </thead>\n",
       "  <tbody>\n",
       "  </tbody>\n",
       "</table>\n",
       "</div>"
      ],
      "text/plain": [
       "Empty DataFrame\n",
       "Columns: []\n",
       "Index: []"
      ]
     },
     "execution_count": 7,
     "metadata": {},
     "output_type": "execute_result"
    }
   ],
   "source": [
    "df=pd.DataFrame(data)\n",
    "df"
   ]
  },
  {
   "cell_type": "code",
   "execution_count": 67,
   "id": "2c3e0bf0-280e-4f59-a21e-ce79b41d1b5f",
   "metadata": {},
   "outputs": [
    {
     "data": {
      "text/plain": [
       "3000"
      ]
     },
     "execution_count": 67,
     "metadata": {},
     "output_type": "execute_result"
    }
   ],
   "source": [
    "len(data)"
   ]
  },
  {
   "cell_type": "code",
   "execution_count": 1,
   "id": "960cbbbc-39f7-4615-ab8c-536fca426f6a",
   "metadata": {},
   "outputs": [
    {
     "ename": "NameError",
     "evalue": "name 'df' is not defined",
     "output_type": "error",
     "traceback": [
      "\u001b[1;31m---------------------------------------------------------------------------\u001b[0m",
      "\u001b[1;31mNameError\u001b[0m                                 Traceback (most recent call last)",
      "\u001b[1;32m~\\AppData\\Local\\Temp\\ipykernel_12492\\2864730414.py\u001b[0m in \u001b[0;36m<module>\u001b[1;34m\u001b[0m\n\u001b[1;32m----> 1\u001b[1;33m \u001b[0mdf\u001b[0m\u001b[1;33m.\u001b[0m\u001b[0mto_csv\u001b[0m\u001b[1;33m(\u001b[0m\u001b[1;34m\"trip_rest_neywork_1.csv\"\u001b[0m\u001b[1;33m,\u001b[0m\u001b[0mindex\u001b[0m\u001b[1;33m=\u001b[0m\u001b[1;32mFalse\u001b[0m\u001b[1;33m)\u001b[0m\u001b[1;33m\u001b[0m\u001b[1;33m\u001b[0m\u001b[0m\n\u001b[0m",
      "\u001b[1;31mNameError\u001b[0m: name 'df' is not defined"
     ]
    }
   ],
   "source": [
    "df.to_csv(\"trip_rest_neywork_1.csv\",index=False)"
   ]
  },
  {
   "cell_type": "code",
   "execution_count": null,
   "id": "b61d5690-02ce-4a35-a794-c32fb30128d8",
   "metadata": {},
   "outputs": [],
   "source": []
  },
  {
   "cell_type": "code",
   "execution_count": null,
   "id": "bef90c64-148b-490c-8551-602e71bbecce",
   "metadata": {},
   "outputs": [],
   "source": []
  },
  {
   "cell_type": "code",
   "execution_count": null,
   "id": "db8bb9e4-7357-493d-b932-35464dab9c41",
   "metadata": {},
   "outputs": [],
   "source": []
  },
  {
   "cell_type": "code",
   "execution_count": null,
   "id": "fea49f8d-9356-4954-8a80-7390538963dc",
   "metadata": {},
   "outputs": [],
   "source": []
  },
  {
   "cell_type": "code",
   "execution_count": null,
   "id": "01c822b1-2e67-4cd1-8fa9-39eb84e8387c",
   "metadata": {},
   "outputs": [],
   "source": []
  }
 ],
 "metadata": {
  "kernelspec": {
   "display_name": "Python 3 (ipykernel)",
   "language": "python",
   "name": "python3"
  },
  "language_info": {
   "codemirror_mode": {
    "name": "ipython",
    "version": 3
   },
   "file_extension": ".py",
   "mimetype": "text/x-python",
   "name": "python",
   "nbconvert_exporter": "python",
   "pygments_lexer": "ipython3",
   "version": "3.9.13"
  }
 },
 "nbformat": 4,
 "nbformat_minor": 5
}
